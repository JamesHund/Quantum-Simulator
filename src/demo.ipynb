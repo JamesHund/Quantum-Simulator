{
 "cells": [
  {
   "cell_type": "markdown",
   "metadata": {},
   "source": [
    "# Quantum Computing Assignment 1\n",
    "# James Hund - 24129429"
   ]
  },
  {
   "cell_type": "markdown",
   "metadata": {},
   "source": [
    "# Simulator Demonstration"
   ]
  },
  {
   "cell_type": "code",
   "execution_count": 1,
   "metadata": {},
   "outputs": [],
   "source": [
    "%load_ext autoreload\n",
    "%autoreload 2\n",
    "from simulator import *"
   ]
  },
  {
   "cell_type": "code",
   "execution_count": 5,
   "metadata": {},
   "outputs": [
    {
     "name": "stdout",
     "output_type": "stream",
     "text": [
      "Calculating the final state-vector...\n",
      "+-------+-------+--------+--------+\n",
      "| 0.707 | 0     |  0.707 |  0     |\n",
      "+-------+-------+--------+--------+\n",
      "| 0     | 0.707 |  0     |  0.707 |\n",
      "+-------+-------+--------+--------+\n",
      "| 0.707 | 0     | -0.707 | -0     |\n",
      "+-------+-------+--------+--------+\n",
      "| 0     | 0.707 | -0     | -0.707 |\n",
      "+-------+-------+--------+--------+\n",
      "+---+---+---+---+\n",
      "| 1 | 0 | 0 | 0 |\n",
      "+---+---+---+---+\n",
      "| 0 | 1 | 0 | 0 |\n",
      "+---+---+---+---+\n",
      "| 0 | 0 | 0 | 1 |\n",
      "+---+---+---+---+\n",
      "| 0 | 0 | 1 | 0 |\n",
      "+---+---+---+---+\n",
      "Composed Gate Matrix:\n"
     ]
    },
    {
     "data": {
      "text/latex": [
       " \\begin{pmatrix} 0.707 & 0 & 0 & 0.707 \\\\ 0 & 0.707 & 0.707 & 0 \\\\ 0.707 & 0 & 0 & -0.707 \\\\ 0 & 0.707 & -0.707 & 0 \\end{pmatrix} "
      ],
      "text/plain": [
       "<IPython.core.display.Latex object>"
      ]
     },
     "metadata": {},
     "output_type": "display_data"
    },
    {
     "name": "stdout",
     "output_type": "stream",
     "text": [
      "Final state vector:\n"
     ]
    },
    {
     "data": {
      "text/latex": [
       " \\begin{pmatrix} 0.707 \\\\ 0 \\\\ 0.707 \\\\ 0 \\end{pmatrix} "
      ],
      "text/plain": [
       "<IPython.core.display.Latex object>"
      ]
     },
     "metadata": {},
     "output_type": "display_data"
    },
    {
     "name": "stdout",
     "output_type": "stream",
     "text": [
      "Simulating circuit for 40 shots:\n",
      "Results:\n",
      "00: [QQQQQQQQQQQQQQQQQQQQQQQ] 23\n",
      "01: [] 0\n",
      "10: [QQQQQQQQQQQQQQQQQ] 17\n",
      "11: [] 0\n"
     ]
    }
   ],
   "source": [
    "# Initial state-vector of |00>\n",
    "init_vector = np.array([1, 0, 0, 0], dtype=np.complex128)\n",
    "shots = 40\n",
    "\n",
    "# User input\n",
    "input_sequence = \"h0 cx01\"\n",
    "\n",
    "gate_sequence, gate_matrices = parse_gate_sequence(input_sequence)\n",
    "print(\"Calculating the final state-vector...\")\n",
    "state_vectors_prime, composed_gate_matrix, final_state_vector = compose_and_apply_operations(gate_matrices, init_vector)\n",
    "for gate_matrix in gate_matrices:\n",
    "    print_complex_matrix(gate_matrix)\n",
    "print(\"Composed Gate Matrix:\")\n",
    "display_complex_matrix(composed_gate_matrix)\n",
    "print(\"Final state vector:\")\n",
    "display_complex_matrix(final_state_vector)\n",
    "\n",
    "print(f\"Simulating circuit for {shots} shots:\")\n",
    "results=simulate_circuit(final_state_vector, shots=shots)\n",
    "print_results(results)"
   ]
  },
  {
   "cell_type": "markdown",
   "metadata": {},
   "source": [
    "## Pauli X, Y and Z Gates"
   ]
  },
  {
   "cell_type": "markdown",
   "metadata": {},
   "source": [
    "## The Hadamard Gate"
   ]
  },
  {
   "cell_type": "markdown",
   "metadata": {},
   "source": [
    "## CNOT (CX) Gate"
   ]
  },
  {
   "cell_type": "markdown",
   "metadata": {},
   "source": [
    "## The Swap Gate"
   ]
  },
  {
   "cell_type": "markdown",
   "metadata": {},
   "source": [
    "# Use Case 1: Simple Entangling Circuit"
   ]
  },
  {
   "cell_type": "markdown",
   "metadata": {},
   "source": [
    "# Use Case 2: The Deutsch Algorithm"
   ]
  },
  {
   "cell_type": "markdown",
   "metadata": {},
   "source": [
    "# Bonus: Dense Coding Demo"
   ]
  }
 ],
 "metadata": {
  "kernelspec": {
   "display_name": "Python 3 (ipykernel)",
   "language": "python",
   "name": "python3"
  },
  "language_info": {
   "codemirror_mode": {
    "name": "ipython",
    "version": 3
   },
   "file_extension": ".py",
   "mimetype": "text/x-python",
   "name": "python",
   "nbconvert_exporter": "python",
   "pygments_lexer": "ipython3",
   "version": "3.11.5"
  }
 },
 "nbformat": 4,
 "nbformat_minor": 4
}
