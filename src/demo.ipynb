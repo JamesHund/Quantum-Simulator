{
 "cells": [
  {
   "cell_type": "markdown",
   "metadata": {},
   "source": [
    "# Quantum Computing Assignment 1\n",
    "# James Hund - 24129429"
   ]
  },
  {
   "cell_type": "markdown",
   "metadata": {},
   "source": [
    "# Simulator Demonstration"
   ]
  },
  {
   "cell_type": "markdown",
   "metadata": {},
   "source": [
    "### Boilerplate"
   ]
  },
  {
   "cell_type": "code",
   "execution_count": 2,
   "metadata": {},
   "outputs": [],
   "source": [
    "%load_ext autoreload\n",
    "%autoreload 2\n",
    "from simulator import *\n",
    "from plot import *"
   ]
  },
  {
   "cell_type": "code",
   "execution_count": null,
   "metadata": {},
   "outputs": [],
   "source": []
  },
  {
   "cell_type": "markdown",
   "metadata": {},
   "source": [
    "## Simple Entangling Circuit"
   ]
  },
  {
   "cell_type": "code",
   "execution_count": 4,
   "metadata": {},
   "outputs": [
    {
     "name": "stdout",
     "output_type": "stream",
     "text": [
      "Initial State Vector:\n"
     ]
    },
    {
     "data": {
      "text/latex": [
       " \\begin{pmatrix} 1 \\\\ 0 \\\\ 0 \\\\ 0 \\end{pmatrix} "
      ],
      "text/plain": [
       "<IPython.core.display.Latex object>"
      ]
     },
     "metadata": {},
     "output_type": "display_data"
    },
    {
     "name": "stdout",
     "output_type": "stream",
     "text": [
      "Applying: Hadamard gate on qubit 0\n"
     ]
    },
    {
     "data": {
      "text/latex": [
       " \\begin{pmatrix} 0.707 & 0 & 0.707 & 0 \\\\ 0 & 0.707 & 0 & 0.707 \\\\ 0.707 & 0 & -0.707 & -0 \\\\ 0 & 0.707 & -0 & -0.707 \\end{pmatrix} "
      ],
      "text/plain": [
       "<IPython.core.display.Latex object>"
      ]
     },
     "metadata": {},
     "output_type": "display_data"
    },
    {
     "data": {
      "text/latex": [
       " \\begin{pmatrix} 0.707 \\\\ 0 \\\\ 0.707 \\\\ 0 \\end{pmatrix} "
      ],
      "text/plain": [
       "<IPython.core.display.Latex object>"
      ]
     },
     "metadata": {},
     "output_type": "display_data"
    },
    {
     "name": "stdout",
     "output_type": "stream",
     "text": [
      "Applying: CNOT gate with qubit 0 as control and qubit 1 as target\n"
     ]
    },
    {
     "data": {
      "text/latex": [
       " \\begin{pmatrix} 1 & 0 & 0 & 0 \\\\ 0 & 1 & 0 & 0 \\\\ 0 & 0 & 0 & 1 \\\\ 0 & 0 & 1 & 0 \\end{pmatrix} "
      ],
      "text/plain": [
       "<IPython.core.display.Latex object>"
      ]
     },
     "metadata": {},
     "output_type": "display_data"
    },
    {
     "data": {
      "text/latex": [
       " \\begin{pmatrix} 0.707 \\\\ 0 \\\\ 0 \\\\ 0.707 \\end{pmatrix} "
      ],
      "text/plain": [
       "<IPython.core.display.Latex object>"
      ]
     },
     "metadata": {},
     "output_type": "display_data"
    },
    {
     "name": "stdout",
     "output_type": "stream",
     "text": [
      "Composed Gate Matrix:\n"
     ]
    },
    {
     "data": {
      "text/latex": [
       " \\begin{pmatrix} 0.707 & 0 & 0.707 & 0 \\\\ 0 & 0.707 & 0 & 0.707 \\\\ 0 & 0.707 & 0 & -0.707 \\\\ 0.707 & 0 & -0.707 & 0 \\end{pmatrix} "
      ],
      "text/plain": [
       "<IPython.core.display.Latex object>"
      ]
     },
     "metadata": {},
     "output_type": "display_data"
    },
    {
     "name": "stdout",
     "output_type": "stream",
     "text": [
      "Final State Vector:\n"
     ]
    },
    {
     "data": {
      "text/latex": [
       " \\begin{pmatrix} 0.707 \\\\ 0 \\\\ 0 \\\\ 0.707 \\end{pmatrix} "
      ],
      "text/plain": [
       "<IPython.core.display.Latex object>"
      ]
     },
     "metadata": {},
     "output_type": "display_data"
    },
    {
     "name": "stdout",
     "output_type": "stream",
     "text": [
      "Simulating circuit for 1000 shots:\n"
     ]
    },
    {
     "data": {
      "image/png": "[encoded data removed]",
      "text/plain": [
       "<Figure size 900x550 with 1 Axes>"
      ]
     },
     "metadata": {},
     "output_type": "display_data"
    }
   ],
   "source": [
    "# Initial state-vector of |00>\n",
    "init_vector = np.array([1, 0, 0, 0], dtype=np.complex128)\n",
    "shots = 1000\n",
    "\n",
    "# User input\n",
    "input_sequence = \"h0 cx01\"\n",
    "\n",
    "#returns a list of gate matrices from input sequence\n",
    "gate_sequence, gate_matrices = parse_gate_sequence(input_sequence)\n",
    "\n",
    "state_vectors_prime, composed_gate_matrix, final_state_vector = compose_and_apply_operations(gate_matrices, init_vector=init_vector)\n",
    "print(\"Initial State Vector:\")\n",
    "print_simulation_steps(gate_sequence, gate_matrices, state_vectors_prime)\n",
    "print(\"Composed Gate Matrix:\")\n",
    "display_complex_matrix(composed_gate_matrix)\n",
    "print(\"Final State Vector:\")\n",
    "display_complex_matrix(final_state_vector)\n",
    "\n",
    "print(f\"Simulating circuit for {shots} shots:\")\n",
    "results=simulate_circuit(final_state_vector, shots=shots)\n",
    "plot_simulation_results(results,shots)"
   ]
  },
  {
   "cell_type": "markdown",
   "metadata": {},
   "source": [
    "## Pauli X, Y and Z Gates"
   ]
  },
  {
   "cell_type": "markdown",
   "metadata": {},
   "source": [
    "## The Hadamard Gate"
   ]
  },
  {
   "cell_type": "markdown",
   "metadata": {},
   "source": [
    "## CNOT (CX) Gate"
   ]
  },
  {
   "cell_type": "markdown",
   "metadata": {},
   "source": [
    "## The Swap Gate"
   ]
  },
  {
   "cell_type": "markdown",
   "metadata": {},
   "source": [
    "# The Deutsch Algorithm"
   ]
  },
  {
   "cell_type": "code",
   "execution_count": 42,
   "metadata": {},
   "outputs": [
    {
     "name": "stdout",
     "output_type": "stream",
     "text": [
      "Composed Gate Matrix:\n"
     ]
    },
    {
     "data": {
      "text/latex": [
       " \\begin{pmatrix} 0.707 & 0.707 & 0 & 0 \\\\ -0.707 & 0.707 & 0 & 0 \\\\ 0 & 0 & 0.707 & 0.707 \\\\ 0 & 0 & -0.707 & 0.707 \\end{pmatrix} "
      ],
      "text/plain": [
       "<IPython.core.display.Latex object>"
      ]
     },
     "metadata": {},
     "output_type": "display_data"
    },
    {
     "name": "stdout",
     "output_type": "stream",
     "text": [
      "Final state vector:\n"
     ]
    },
    {
     "data": {
      "text/latex": [
       " \\begin{pmatrix} 0.707 \\\\ -0.707 \\\\ 0 \\\\ 0 \\end{pmatrix} "
      ],
      "text/plain": [
       "<IPython.core.display.Latex object>"
      ]
     },
     "metadata": {},
     "output_type": "display_data"
    },
    {
     "name": "stdout",
     "output_type": "stream",
     "text": [
      "Simulating circuit for 1000 shots:\n"
     ]
    },
    {
     "data": {
      "image/png": "[encoded data removed]",
      "text/plain": [
       "<Figure size 900x550 with 1 Axes>"
      ]
     },
     "metadata": {},
     "output_type": "display_data"
    }
   ],
   "source": [
    "# Initial state-vector of |00>\n",
    "init_vector = np.array([1, 0, 0, 0], dtype=np.complex128)\n",
    "shots = 1000\n",
    "\n",
    "# User input\n",
    "input_sequence = \"x1 h0 h1 oracle h0\"\n",
    "\n",
    "gate_sequence, gate_matrices = parse_gate_sequence(input_sequence)\n",
    "state_vectors_prime, composed_gate_matrix, final_state_vector = compose_and_apply_operations(gate_matrices, init_vector)\n",
    "#print(\"Simulation steps:\")\n",
    "#print_simulation_steps(gate_sequence, gate_matrices, state_vectors_prime)\n",
    "print(\"Composed Gate Matrix:\")\n",
    "display_complex_matrix(composed_gate_matrix)\n",
    "print(\"Final state vector:\")\n",
    "display_complex_matrix(final_state_vector)\n",
    "\n",
    "print(f\"Simulating circuit for {shots} shots:\")\n",
    "results=simulate_circuit(final_state_vector, shots=shots)\n",
    "plot_simulation_results(results,shots)"
   ]
  },
  {
   "cell_type": "markdown",
   "metadata": {},
   "source": [
    "# Bonus: Dense Coding Demo"
   ]
  }
 ],
 "metadata": {
  "kernelspec": {
   "display_name": "Python 3 (ipykernel)",
   "language": "python",
   "name": "python3"
  },
  "language_info": {
   "codemirror_mode": {
    "name": "ipython",
    "version": 3
   },
   "file_extension": ".py",
   "mimetype": "text/x-python",
   "name": "python",
   "nbconvert_exporter": "python",
   "pygments_lexer": "ipython3",
   "version": "3.11.5"
  }
 },
 "nbformat": 4,
 "nbformat_minor": 4
}
